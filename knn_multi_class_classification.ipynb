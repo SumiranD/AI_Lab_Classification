{
  "nbformat": 4,
  "nbformat_minor": 0,
  "metadata": {
    "colab": {
      "provenance": [],
      "include_colab_link": true
    },
    "kernelspec": {
      "name": "python3",
      "display_name": "Python 3"
    },
    "language_info": {
      "name": "python"
    }
  },
  "cells": [
    {
      "cell_type": "markdown",
      "metadata": {
        "id": "view-in-github",
        "colab_type": "text"
      },
      "source": [
        "<a href=\"https://colab.research.google.com/github/SumiranD/AI_Lab_Classification/blob/main/knn_multi_class_classification.ipynb\" target=\"_parent\"><img src=\"https://colab.research.google.com/assets/colab-badge.svg\" alt=\"Open In Colab\"/></a>"
      ]
    },
    {
      "cell_type": "code",
      "execution_count": null,
      "metadata": {
        "colab": {
          "base_uri": "https://localhost:8080/"
        },
        "id": "a7cz-O4yL-6r",
        "outputId": "335b92f2-6638-415d-ef86-886e863e2653"
      },
      "outputs": [
        {
          "output_type": "stream",
          "name": "stdout",
          "text": [
            "Accuracy: 0.6666666666666666\n"
          ]
        }
      ],
      "source": [
        "import numpy as np\n",
        "from collections import Counter\n",
        "from sklearn.model_selection import train_test_split\n",
        "from sklearn.metrics import accuracy_score\n",
        "\n",
        "# Dataset\n",
        "data = np.array([\n",
        "    [5.1, 3.5, 1.4, 0],\n",
        "    [4.9, 3.0, 1.3, 0],\n",
        "    [5.0, 3.4, 1.5, 0],\n",
        "    [7.0, 3.2, 4.7, 1],\n",
        "    [6.4, 3.2, 4.5, 1],\n",
        "    [6.9, 3.1, 4.9, 1],\n",
        "    [5.5, 2.3, 4.0, 2],\n",
        "    [6.5, 2.8, 4.6, 2],\n",
        "    [5.7, 2.8, 4.1, 2],\n",
        "    [6.3, 3.3, 6.0, 2],\n",
        "    [5.8, 2.7, 5.1, 2],\n",
        "    [6.1, 3.0, 4.8, 2]\n",
        "])\n",
        "\n",
        "X = data[:, :3]\n",
        "y = data[:, 3]\n",
        "\n",
        "# Split\n",
        "X_train, X_test, y_train, y_test = train_test_split(X, y, test_size=0.2, random_state=42)\n",
        "\n",
        "def euclidean_distance(a, b):\n",
        "    return np.sqrt(np.sum((a - b) ** 2))\n",
        "\n",
        "def knn_predict(X_train, y_train, x_test, k):\n",
        "    distances = [euclidean_distance(x_test, x_train) for x_train in X_train]\n",
        "    k_indices = np.argsort(distances)[:k]\n",
        "    k_nearest_labels = [y_train[i] for i in k_indices]\n",
        "    most_common = Counter(k_nearest_labels).most_common(1)\n",
        "    return most_common[0][0]\n",
        "\n",
        "# Predict\n",
        "k = 5\n",
        "predictions = [knn_predict(X_train, y_train, x, k) for x in X_test]\n",
        "print(\"Accuracy:\", accuracy_score(y_test, predictions))"
      ]
    }
  ]
}